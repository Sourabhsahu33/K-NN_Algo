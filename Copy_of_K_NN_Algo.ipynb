{
  "nbformat": 4,
  "nbformat_minor": 0,
  "metadata": {
    "colab": {
      "provenance": [],
      "toc_visible": true,
      "authorship_tag": "ABX9TyNdttl1CF9Ll6itmslwfav1",
      "include_colab_link": true
    },
    "kernelspec": {
      "name": "python3",
      "display_name": "Python 3"
    },
    "language_info": {
      "name": "python"
    }
  },
  "cells": [
    {
      "cell_type": "markdown",
      "metadata": {
        "id": "view-in-github",
        "colab_type": "text"
      },
      "source": [
        "<a href=\"https://colab.research.google.com/github/Sourabhsahu33/K-NN_Algo/blob/main/Copy_of_K_NN_Algo.ipynb\" target=\"_parent\"><img src=\"https://colab.research.google.com/assets/colab-badge.svg\" alt=\"Open In Colab\"/></a>"
      ]
    },
    {
      "cell_type": "code",
      "execution_count": null,
      "metadata": {
        "colab": {
          "base_uri": "https://localhost:8080/"
        },
        "id": "ohosd4lMAuZA",
        "outputId": "8881359c-8af2-4361-db63-c4b9659ac5ba"
      },
      "outputs": [
        {
          "output_type": "stream",
          "name": "stdout",
          "text": [
            "Predicted Class: normal\n"
          ]
        }
      ],
      "source": [
        "import numpy as np\n",
        "from sklearn.neighbors import KNeighborsClassifier  # Corrected import\n",
        "\n",
        "# define the dataset\n",
        "x_train = np.array([[0.3, 0.2, 0.7, 0.8],\n",
        "                    [0.5, 0.6, 0.4, 0.9],\n",
        "                    [0.9, 0.7, 0.3, 0.2],\n",
        "                    [0.6, 0.1, 0.8, 0.3],\n",
        "                    [0.2, 0.4, 0.5, 0.6]])\n",
        "\n",
        "y_train = np.array(['normal', 'normal', 'Anomaly', 'normal', 'Anomaly'])\n",
        "\n",
        "# create the KNN model with k = 3\n",
        "k = 3\n",
        "knn_model = KNeighborsClassifier(n_neighbors=k)\n",
        "\n",
        "# train the knn model\n",
        "knn_model.fit(x_train, y_train)\n",
        "\n",
        "# define the new data point\n",
        "new_data_point = np.array([[0.5, 0.6, 0.4, 0.9]])\n",
        "\n",
        "# predict the class of the new data point\n",
        "predict_class = knn_model.predict(new_data_point)\n",
        "\n",
        "print(\"Predicted Class:\", predict_class[0])\n"
      ]
    }
  ]
}