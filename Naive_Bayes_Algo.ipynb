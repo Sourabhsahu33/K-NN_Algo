{
  "nbformat": 4,
  "nbformat_minor": 0,
  "metadata": {
    "colab": {
      "provenance": [],
      "toc_visible": true,
      "authorship_tag": "ABX9TyPXenn/ZYb7moZbz5z6Yueh",
      "include_colab_link": true
    },
    "kernelspec": {
      "name": "python3",
      "display_name": "Python 3"
    },
    "language_info": {
      "name": "python"
    }
  },
  "cells": [
    {
      "cell_type": "markdown",
      "metadata": {
        "id": "view-in-github",
        "colab_type": "text"
      },
      "source": [
        "<a href=\"https://colab.research.google.com/github/Sourabhsahu33/ML-Algorithms/blob/main/Naive_Bayes_Algo.ipynb\" target=\"_parent\"><img src=\"https://colab.research.google.com/assets/colab-badge.svg\" alt=\"Open In Colab\"/></a>"
      ]
    },
    {
      "cell_type": "code",
      "source": [
        "import pandas as pd\n",
        "import numpy as np\n",
        "\n",
        "# Define the dataset\n",
        "data = {\n",
        "    'Malware_Type': ['Ransomware', 'Adware', 'Trojan', 'Spyware', 'Worm', 'Ransomware', 'Adware', 'Trojan', 'Spyware', 'Worm', 'Ransomware', 'Adware', 'Trojan', 'Spyware', 'Worm', 'Ransomware', 'Adware', 'Trojan', 'Spyware', 'Worm'],\n",
        "    'Temperature': ['Hot', 'Moderate', 'Hot', 'Cool', 'Moderate', 'Hot', 'Moderate', 'Cool', 'Hot', 'Moderate', 'Hot', 'Cool', 'Moderate', 'Hot', 'Cool', 'Moderate', 'Hot', 'Cool', 'Moderate', 'Hot'],\n",
        "    'Host': ['Company_A', 'Company_B', 'Company_C', 'Company_A', 'Company_B', 'Company_C', 'Company_A', 'Company_B', 'Company_C', 'Company_A', 'Company_B', 'Company_C', 'Company_A', 'Company_B', 'Company_C', 'Company_A', 'Company_B', 'Company_C', 'Company_A', 'Company_B'],\n",
        "    'Firewall_Status': ['Enabled', 'Enabled', 'Disabled', 'Enabled', 'Enabled', 'Disabled', 'Enabled', 'Enabled', 'Disabled', 'Enabled', 'Enabled', 'Disabled', 'Enabled', 'Enabled', 'Disabled', 'Enabled', 'Enabled', 'Disabled', 'Enabled', 'Enabled'],\n",
        "    'Attack_Severity': ['Low', 'High', 'Medium', 'Low', 'High', 'Medium', 'Low', 'High', 'Medium', 'Low', 'High', 'Medium', 'Low', 'High', 'Medium', 'Low', 'High', 'Medium', 'Low', 'High'],\n",
        "    'System_Crash': ['Yes', 'No', 'Yes', 'No', 'Yes', 'Yes', 'No', 'Yes', 'No', 'Yes', 'No', 'Yes', 'No', 'Yes', 'No', 'Yes', 'No', 'Yes', 'No', 'Yes']\n",
        "}\n",
        "\n",
        "# Create a DataFrame from the dataset\n",
        "df = pd.DataFrame(data)\n",
        "\n",
        "# Calculate the prior probabilities\n",
        "prior_prob_yes = df['System_Crash'].value_counts(normalize=True)['Yes']\n",
        "prior_prob_no = df['System_Crash'].value_counts(normalize=True)['No']\n",
        "\n",
        "# Calculate the likelihoods for each feature given the class\n",
        "likelihoods = {}\n",
        "for feature in df.columns[:-1]:  # Exclude the 'System_Crash' column\n",
        "    likelihoods[feature] = {}\n",
        "    for value in df[feature].unique():\n",
        "        for outcome in df['System_Crash'].unique():\n",
        "            count = df[(df[feature] == value) & (df['System_Crash'] == outcome)].shape[0]\n",
        "            total_count = df[df['System_Crash'] == outcome].shape[0]\n",
        "            likelihoods[feature][f'{value}|{outcome}'] = count / total_count\n",
        "\n",
        "# Define a function to classify a new instance\n",
        "def classify_new_instance(new_instance):\n",
        "    posterior_prob_yes = prior_prob_yes\n",
        "    posterior_prob_no = prior_prob_no\n",
        "\n",
        "    for feature, value in new_instance.items():\n",
        "        if feature != 'System_Crash':\n",
        "            posterior_prob_yes *= likelihoods[feature][f'{value}|Yes']\n",
        "            posterior_prob_no *= likelihoods[feature][f'{value}|No']\n",
        "\n",
        "    if posterior_prob_yes > posterior_prob_no:\n",
        "        return 'Yes'\n",
        "    else:\n",
        "        return 'No'\n",
        "\n",
        "# Define a new instance to classify\n",
        "new_instance = {\n",
        "    'Malware_Type': 'Ransomware',\n",
        "    'Temperature': 'Moderate',\n",
        "    'Host': 'Company_A',\n",
        "    'Firewall_Status': 'Enabled',\n",
        "    'Attack_Severity': 'Low'\n",
        "}\n",
        "\n",
        "# Classify the new instance\n",
        "classification = classify_new_instance(new_instance)\n",
        "print(f\"System Crash Prediction: {classification}\")\n"
      ],
      "metadata": {
        "colab": {
          "base_uri": "https://localhost:8080/"
        },
        "id": "nSDTMw9Hw4rW",
        "outputId": "734ba095-76e9-4cb3-8e5d-ce4148026d71"
      },
      "execution_count": 1,
      "outputs": [
        {
          "output_type": "stream",
          "name": "stdout",
          "text": [
            "System Crash Prediction: No\n"
          ]
        }
      ]
    },
    {
      "cell_type": "markdown",
      "source": [
        "# Naive Bayes Algorithm\n"
      ],
      "metadata": {
        "id": "XrSYbnSSIuOn"
      }
    },
    {
      "cell_type": "code",
      "source": [
        "# Define the prior probabilities\n",
        "prior_prob_yes = 9/20\n",
        "prior_prob_no = 11/20\n",
        "\n",
        "# Define the likelihoods for all possible feature-value combinations\n",
        "likelihoods = {\n",
        "    'Malware_Type': {\n",
        "        'Ransomware|Yes': 4/9,\n",
        "        'Ransomware|No': 1/11,\n",
        "        # Add likelihoods for other values...\n",
        "    },\n",
        "    'Temperature': {\n",
        "        'Hot|Yes': 4/9,\n",
        "        'Hot|No': 4/11,\n",
        "        'Moderate|Yes': 2/9,\n",
        "        'Moderate|No': 3/11,\n",
        "        'Cool|Yes': 3/9,\n",
        "        'Cool|No': 4/11,\n",
        "        # Add likelihoods for other values...\n",
        "    },\n",
        "    'Host': {\n",
        "        'Company_A|Yes': 3/9,\n",
        "        'Company_A|No': 3/11,\n",
        "        'Company_B|Yes': 3/9,\n",
        "        'Company_B|No': 3/11,\n",
        "        'Company_C|Yes': 3/9,\n",
        "        'Company_C|No': 5/11,\n",
        "        # Add likelihoods for other values...\n",
        "    },\n",
        "    'Firewall_Status': {\n",
        "        'Enabled|Yes': 5/9,\n",
        "        'Enabled|No': 6/11,\n",
        "        'Disabled|Yes': 4/9,\n",
        "        'Disabled|No': 5/11,\n",
        "        # Add likelihoods for other values...\n",
        "    },\n",
        "    'Attack_Severity': {\n",
        "        'Low|Yes': 3/9,\n",
        "        'Low|No': 6/11,\n",
        "        'High|Yes': 6/9,\n",
        "        'High|No': 3/11,\n",
        "        'Medium|Yes': 0/9,\n",
        "        'Medium|No': 2/11,\n",
        "        # Add likelihoods for other values...\n",
        "    }\n",
        "}\n",
        "\n",
        "# Define a function to predict System_Crash for a given instance\n",
        "def predict_system_crash(new_instance):\n",
        "    posterior_prob_yes = prior_prob_yes\n",
        "    posterior_prob_no = prior_prob_no\n",
        "\n",
        "    for feature, value in new_instance.items():\n",
        "        posterior_prob_yes *= likelihoods[feature][f'{value}|Yes']\n",
        "        posterior_prob_no *= likelihoods[feature][f'{value}|No']\n",
        "\n",
        "    # Compare the posterior probabilities and make a prediction\n",
        "    if posterior_prob_yes > posterior_prob_no:\n",
        "        return 'System_Crash = Yes'\n",
        "    else:\n",
        "        return 'System_Crash = No'\n",
        "\n",
        "# Define a new instance to predict\n",
        "new_instance = {\n",
        "    'Malware_Type': 'Ransomware',\n",
        "    'Temperature': 'Moderate',\n",
        "    'Host': 'Company_A',\n",
        "    'Firewall_Status': 'Enabled',\n",
        "    'Attack_Severity': 'Low'\n",
        "}\n",
        "\n",
        "# Predict System_Crash for the new instance\n",
        "prediction = predict_system_crash(new_instance)\n",
        "print(f\"Prediction: {prediction}\")\n"
      ],
      "metadata": {
        "colab": {
          "base_uri": "https://localhost:8080/"
        },
        "id": "JDDfvYDII1s7",
        "outputId": "3afa0de8-9173-4a51-f3c9-bd63ad1db0dc"
      },
      "execution_count": 2,
      "outputs": [
        {
          "output_type": "stream",
          "name": "stdout",
          "text": [
            "Prediction: System_Crash = Yes\n"
          ]
        }
      ]
    },
    {
      "cell_type": "code",
      "source": [],
      "metadata": {
        "id": "AYVJKmoEI1wC"
      },
      "execution_count": null,
      "outputs": []
    }
  ]
}